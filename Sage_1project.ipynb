{
 "cells": [
  {
   "cell_type": "code",
   "execution_count": null,
   "id": "51a5aa5c",
   "metadata": {},
   "outputs": [],
   "source": [
    "import numpy as np\n",
    "import pandas as pd\n",
    "\n",
    "slick = (\"https://github.com/HamoyeHQ/HDSC-Introduction-to-Python-for-machine-learning/files/7768140/FoodBalanceSheets_E_Africa_NOFLAG.csv\")\n",
    "\n",
    "fsb = pd.read_csv( slick, sep = ',', encoding = \"Latin-1\")\n",
    "fsb.describe(include = 'all')\n",
    "\n",
    "print(fsb['Y2014'].sum())\n",
    "print(fsb['Y2017'].sum())\n"
   ]
  },
  {
   "cell_type": "code",
   "execution_count": 1,
   "id": "81d0d139",
   "metadata": {},
   "outputs": [
    {
     "name": "stdout",
     "output_type": "stream",
     "text": [
      "1603.4039839423301\n",
      "135.23596649549236\n"
     ]
    }
   ],
   "source": [
    "import numpy as np\n",
    "import pandas as pd\n",
    "\n",
    "slick = (\"https://github.com/HamoyeHQ/HDSC-Introduction-to-Python-for-machine-learning/files/7768140/FoodBalanceSheets_E_Africa_NOFLAG.csv\")\n",
    "\n",
    "fsb = pd.read_csv( slick, sep = ',', encoding = \"Latin-1\")\n",
    "fsb.describe(include = 'all')\n",
    "\n",
    "print(fsb['Y2015'].mean())\n",
    "print(fsb['Y2015'].std())"
   ]
  },
  {
   "cell_type": "code",
   "execution_count": 17,
   "id": "9ba4b436",
   "metadata": {},
   "outputs": [
    {
     "name": "stdout",
     "output_type": "stream",
     "text": [
      "1535\n",
      "0.01892148135624223\n"
     ]
    }
   ],
   "source": [
    "import numpy as np\n",
    "import pandas as pd\n",
    "\n",
    "slick = (\"https://github.com/HamoyeHQ/HDSC-Introduction-to-Python-for-machine-learning/files/7768140/FoodBalanceSheets_E_Africa_NOFLAG.csv\")\n",
    "\n",
    "fsb = pd.read_csv( slick, sep = ',', encoding = \"Latin-1\")\n",
    "fsb.describe(include = 'all')\n",
    "\n",
    "print(fsb['Y2016'].isnull().sum())\n",
    "\n",
    "print((fsb['Y2016'].isnull().sum() / fsb['Y2016'].sum()) * 100 )"
   ]
  },
  {
   "cell_type": "code",
   "execution_count": 19,
   "id": "21fc49a5",
   "metadata": {},
   "outputs": [
    {
     "name": "stdout",
     "output_type": "stream",
     "text": [
      "              Area Code  Item Code  Element Code     Y2014     Y2015  \\\n",
      "Area Code      1.000000  -0.005159     -0.000209  0.006164  0.005472   \n",
      "Item Code     -0.005159   1.000000     -0.024683  0.021722  0.020857   \n",
      "Element Code  -0.000209  -0.024683      1.000000  0.024457  0.023889   \n",
      "Y2014          0.006164   0.021722      0.024457  1.000000  0.994647   \n",
      "Y2015          0.005472   0.020857      0.023889  0.994647  1.000000   \n",
      "Y2016          0.005247   0.020109      0.023444  0.996081  0.995739   \n",
      "Y2017          0.005006   0.021494      0.024254  0.995230  0.988048   \n",
      "Y2018          0.005665   0.021314      0.024279  0.994872  0.988208   \n",
      "\n",
      "                 Y2016     Y2017     Y2018  \n",
      "Area Code     0.005247  0.005006  0.005665  \n",
      "Item Code     0.020109  0.021494  0.021314  \n",
      "Element Code  0.023444  0.024254  0.024279  \n",
      "Y2014         0.996081  0.995230  0.994872  \n",
      "Y2015         0.995739  0.988048  0.988208  \n",
      "Y2016         1.000000  0.992785  0.992757  \n",
      "Y2017         0.992785  1.000000  0.998103  \n",
      "Y2018         0.992757  0.998103  1.000000  \n"
     ]
    }
   ],
   "source": [
    "import numpy as np\n",
    "import pandas as pd\n",
    "\n",
    "slick = (\"https://github.com/HamoyeHQ/HDSC-Introduction-to-Python-for-machine-learning/files/7768140/FoodBalanceSheets_E_Africa_NOFLAG.csv\")\n",
    "\n",
    "fsb = pd.read_csv( slick, sep = ',', encoding = \"Latin-1\")\n",
    "\n",
    "print(fsb.corr())"
   ]
  },
  {
   "cell_type": "code",
   "execution_count": null,
   "id": "894137b4",
   "metadata": {},
   "outputs": [],
   "source": []
  }
 ],
 "metadata": {
  "kernelspec": {
   "display_name": "Python 3 (ipykernel)",
   "language": "python",
   "name": "python3"
  },
  "language_info": {
   "codemirror_mode": {
    "name": "ipython",
    "version": 3
   },
   "file_extension": ".py",
   "mimetype": "text/x-python",
   "name": "python",
   "nbconvert_exporter": "python",
   "pygments_lexer": "ipython3",
   "version": "3.9.7"
  }
 },
 "nbformat": 4,
 "nbformat_minor": 5
}
